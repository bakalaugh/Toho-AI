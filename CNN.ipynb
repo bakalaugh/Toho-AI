{
 "cells": [
  {
   "cell_type": "code",
   "execution_count": 4,
   "metadata": {
    "pycharm": {
     "is_executing": true
    }
   },
   "outputs": [],
   "source": [
    "import os.path\n",
    "import torchvision.transforms as T\n",
    "\n",
    "from train_eval import *\n",
    "import data_load\n",
    "import model"
   ]
  },
  {
   "cell_type": "code",
   "execution_count": 5,
   "metadata": {},
   "outputs": [
    {
     "name": "stdout",
     "output_type": "stream",
     "text": [
      "The autoreload extension is already loaded. To reload it, use:\n",
      "  %reload_ext autoreload\n",
      "Using device: cpu\n"
     ]
    }
   ],
   "source": [
    "%load_ext autoreload\n",
    "%autoreload 2\n",
    "\n",
    "device = torch.device(\"cuda\" if torch.cuda.is_available() else 'cpu')\n",
    "print(\"Using device: {}\".format(device))"
   ]
  },
  {
   "cell_type": "code",
   "execution_count": 6,
   "metadata": {
    "pycharm": {
     "is_executing": true
    }
   },
   "outputs": [
    {
     "name": "stdout",
     "output_type": "stream",
     "text": [
      "\n",
      "==========load the data==========\n",
      "labels matrix: torch.Size([895, 5])\n",
      "\n",
      "0894.jpg done!\n",
      "\n",
      "samples matrix: torch.Size([895, 3, 200, 150])\n",
      "===================================\n",
      "\n",
      "\n",
      "==========after processing==========\n",
      "labels matrix:torch.Size([767, 5])\n",
      "\n",
      "samples matrix:torch.Size([767, 3, 200, 150])\n",
      "===================================\n"
     ]
    }
   ],
   "source": [
    "# path of dataset\n",
    "label_root = os.path.join(\".\", \"Dataset\", \"raw_labels\")\n",
    "pic_root = os.path.join(\".\", \"Dataset\", \"raw_screenshots\")\n",
    "sample_root = [os.path.join(pic_root, x)\n",
    "    for x in os.listdir(pic_root)]\n",
    "\n",
    "# load and wrap the data into dataloader\n",
    "train_loader, cv_loader, test_loader = data_load.data_load(sample_root, label_root)"
   ]
  },
  {
   "cell_type": "code",
   "execution_count": 7,
   "metadata": {},
   "outputs": [],
   "source": [
    "CNN_model = model.toho_CNN()\n",
    "CNN_model = CNN_model.to(device)"
   ]
  },
  {
   "cell_type": "code",
   "execution_count": 8,
   "metadata": {},
   "outputs": [
    {
     "name": "stdout",
     "output_type": "stream",
     "text": [
      "\r\n",
      "Epoch:  0  ====================\n"
     ]
    },
    {
     "ename": "ZeroDivisionError",
     "evalue": "division by zero",
     "output_type": "error",
     "traceback": [
      "\u001b[1;31m---------------------------------------------------------------------------\u001b[0m",
      "\u001b[1;31mZeroDivisionError\u001b[0m                         Traceback (most recent call last)",
      "Input \u001b[1;32mIn [8]\u001b[0m, in \u001b[0;36m<module>\u001b[1;34m\u001b[0m\n\u001b[0;32m      1\u001b[0m epochs \u001b[38;5;241m=\u001b[39m \u001b[38;5;241m150\u001b[39m\n\u001b[1;32m----> 2\u001b[0m losses, cv_losses \u001b[38;5;241m=\u001b[39m \u001b[43mPokeAIMaster\u001b[49m\u001b[43m(\u001b[49m\u001b[43mCNN_model\u001b[49m\u001b[43m,\u001b[49m\u001b[43m \u001b[49m\u001b[43mepochs\u001b[49m\u001b[43m,\u001b[49m\u001b[43m \u001b[49m\u001b[43mtrain_loader\u001b[49m\u001b[43m,\u001b[49m\u001b[43m \u001b[49m\u001b[43mcv_loader\u001b[49m\u001b[43m)\u001b[49m\n",
      "File \u001b[1;32mG:\\My Files\\Files\\TU Dresden\\5. Semester\\其他\\Programm\\Toho AI\\train_eval.py:18\u001b[0m, in \u001b[0;36mPokeAIMaster\u001b[1;34m(model, epochs, train_loader, cv_loader)\u001b[0m\n\u001b[0;32m     15\u001b[0m \u001b[38;5;28mprint\u001b[39m(\u001b[38;5;124mf\u001b[39m\u001b[38;5;124m\"\u001b[39m\u001b[38;5;130;01m\\r\u001b[39;00m\u001b[38;5;124mEpoch: \u001b[39m\u001b[38;5;132;01m{\u001b[39;00me\u001b[38;5;132;01m:\u001b[39;00m\u001b[38;5;124m2d\u001b[39m\u001b[38;5;132;01m}\u001b[39;00m\u001b[38;5;124m  \u001b[39m\u001b[38;5;124m\"\u001b[39m \u001b[38;5;241m+\u001b[39m \u001b[38;5;124m\"\u001b[39m\u001b[38;5;124m=\u001b[39m\u001b[38;5;124m\"\u001b[39m\u001b[38;5;241m*\u001b[39m\u001b[38;5;241m20\u001b[39m)\n\u001b[0;32m     17\u001b[0m loss \u001b[38;5;241m=\u001b[39m model_train(model, train_loader)\n\u001b[1;32m---> 18\u001b[0m cv_loss \u001b[38;5;241m=\u001b[39m \u001b[43mmodel_eval\u001b[49m\u001b[43m(\u001b[49m\u001b[43mmodel\u001b[49m\u001b[43m,\u001b[49m\u001b[43m \u001b[49m\u001b[43mcv_loader\u001b[49m\u001b[43m)\u001b[49m\n\u001b[0;32m     20\u001b[0m losses\u001b[38;5;241m.\u001b[39mappend(loss)\n\u001b[0;32m     21\u001b[0m cv_losses\u001b[38;5;241m.\u001b[39mappend(cv_loss)\n",
      "File \u001b[1;32mG:\\My Files\\Files\\TU Dresden\\5. Semester\\其他\\Programm\\Toho AI\\train_eval.py:62\u001b[0m, in \u001b[0;36mmodel_eval\u001b[1;34m(model, cv_loader)\u001b[0m\n\u001b[0;32m     59\u001b[0m         cv_loss \u001b[38;5;241m=\u001b[39m model\u001b[38;5;241m.\u001b[39mcriterion(pred, y)\n\u001b[0;32m     60\u001b[0m         cv_loss_avg \u001b[38;5;241m+\u001b[39m\u001b[38;5;241m=\u001b[39m cv_loss\u001b[38;5;241m.\u001b[39mitem()\n\u001b[1;32m---> 62\u001b[0m cv_loss_avg \u001b[38;5;241m/\u001b[39m\u001b[38;5;241m=\u001b[39m num_batch\n\u001b[0;32m     64\u001b[0m \u001b[38;5;28;01mreturn\u001b[39;00m cv_loss_avg\n",
      "\u001b[1;31mZeroDivisionError\u001b[0m: division by zero"
     ]
    }
   ],
   "source": [
    "epochs = 150\n",
    "losses, cv_losses = PokeAIMaster(CNN_model, epochs, train_loader, cv_loader)"
   ]
  },
  {
   "cell_type": "code",
   "execution_count": 10,
   "metadata": {},
   "outputs": [
    {
     "data": {
      "text/plain": [
       "array([[7.4886210e-04, 4.6848443e-01, 6.2160122e-01, 1.4619509e-04,\n",
       "        9.9999988e-01]], dtype=float32)"
      ]
     },
     "execution_count": 10,
     "metadata": {},
     "output_type": "execute_result"
    }
   ],
   "source": [
    "test = plt.imread(os.path.join(sample_root[0], \"0834.jpg\"))\n",
    "test = T.ToTensor()(test)\n",
    "o = CNN_model(torch.stack([test]).to(device))\n",
    "o.detach().cpu().numpy()"
   ]
  },
  {
   "cell_type": "code",
   "execution_count": 6,
   "metadata": {},
   "outputs": [],
   "source": [
    "torch.save(CNN_model.state_dict(), \"CNN_param.pth\")"
   ]
  },
  {
   "cell_type": "code",
   "execution_count": null,
   "metadata": {},
   "outputs": [],
   "source": []
  }
 ],
 "metadata": {
  "interpreter": {
   "hash": "4dbcc20bd42bae42a1c45c21a27db7c54bfeb7344c4316462725a59faf04af23"
  },
  "kernelspec": {
   "display_name": "Python 3 (ipykernel)",
   "language": "python",
   "name": "python3"
  },
  "language_info": {
   "codemirror_mode": {
    "name": "ipython",
    "version": 3
   },
   "file_extension": ".py",
   "mimetype": "text/x-python",
   "name": "python",
   "nbconvert_exporter": "python",
   "pygments_lexer": "ipython3",
   "version": "3.9.7"
  }
 },
 "nbformat": 4,
 "nbformat_minor": 4
}
