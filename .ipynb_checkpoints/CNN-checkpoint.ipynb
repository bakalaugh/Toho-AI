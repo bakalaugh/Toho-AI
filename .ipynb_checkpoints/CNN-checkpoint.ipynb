{
 "cells": [
  {
   "cell_type": "code",
   "execution_count": 1,
   "metadata": {},
   "outputs": [],
   "source": [
    "import fnmatch\n",
    "import os\n",
    "import os.path\n",
    "import pprint\n",
    "import pandas as pd\n",
    "import numpy as np\n",
    "import matplotlib.pyplot as plt\n",
    "import torch\n",
    "from torch import nn\n",
    "from torch.utils.data import random_split\n",
    "import torchvision.transforms as T\n",
    "\n",
    "from train_eval import *\n",
    "import data_load\n",
    "import model"
   ]
  },
  {
   "cell_type": "code",
   "execution_count": 2,
   "metadata": {},
   "outputs": [
    {
     "name": "stdout",
     "output_type": "stream",
     "text": [
      "Using device: cuda\n"
     ]
    }
   ],
   "source": [
    "%load_ext autoreload\n",
    "%autoreload 2\n",
    "\n",
    "device = torch.device(\"cuda\" if torch.cuda.is_available() else 'cpu')\n",
    "print(\"Using device: {}\".format(device))"
   ]
  },
  {
   "cell_type": "code",
   "execution_count": 3,
   "metadata": {},
   "outputs": [
    {
     "name": "stdout",
     "output_type": "stream",
     "text": [
      "\n",
      "==========load the data==========\n",
      "labels matrix: torch.Size([9271, 5])\n",
      "\n",
      "0047.jpg done!"
     ]
    },
    {
     "name": "stderr",
     "output_type": "stream",
     "text": [
      "/home/yuzh652b/.local/lib/python3.8/site-packages/torchvision/transforms/functional.py:74: UserWarning: The given NumPy array is not writeable, and PyTorch does not support non-writeable tensors. This means you can write to the underlying (supposedly non-writeable) NumPy array using the tensor. You may want to copy the array to protect its data or make it writeable before converting it to a tensor. This type of warning will be suppressed for the rest of this program. (Triggered internally at  ../torch/csrc/utils/tensor_numpy.cpp:135.)\n",
      "  img = torch.from_numpy(pic.transpose((2, 0, 1))).contiguous()\n"
     ]
    },
    {
     "name": "stdout",
     "output_type": "stream",
     "text": [
      "0823.jpg done!\n",
      "\n",
      "samples matrix: torch.Size([9271, 3, 200, 150])\n",
      "===================================\n",
      "\n",
      "\n",
      "==========after processing==========\n",
      "labels matrix:torch.Size([7858, 5])\n",
      "\n",
      "samples matrix:torch.Size([7858, 3, 200, 150])\n",
      "===================================\n"
     ]
    }
   ],
   "source": [
    "# path of dataset\n",
    "label_root = os.path.join(\".\", \"Dataset\", \"raw_labels\")\n",
    "pic_root = os.path.join(\".\", \"Dataset\", \"raw_screenshots\")\n",
    "sample_root = [os.path.join(pic_root, x)\n",
    "    for x in os.listdir(pic_root)]\n",
    "\n",
    "# load and wrap the data into dataloader\n",
    "train_loader, cv_loader, test_loader = data_load.data_load(sample_root, label_root)"
   ]
  },
  {
   "cell_type": "code",
   "execution_count": 4,
   "metadata": {},
   "outputs": [],
   "source": [
    "CNN_model = model.toho_CNN()\n",
    "CNN_model = CNN_model.to(device)"
   ]
  },
  {
   "cell_type": "code",
   "execution_count": 9,
   "metadata": {},
   "outputs": [
    {
     "name": "stdout",
     "output_type": "stream",
     "text": [
      "Epoch:  0  ====================\n",
      "loss:  0.14, cv_loss:  0.37\n",
      "Epoch:  1  ====================\n",
      "loss:  0.13, cv_loss:  0.38\n",
      "Epoch:  2  ====================\n",
      "loss:  0.12, cv_loss:  0.38\n",
      "Epoch:  3  ====================\n",
      "loss:  0.13, cv_loss:  0.40\n",
      "Epoch:  4  ====================\n",
      "loss:  0.14, cv_loss:  0.38\n",
      "Epoch:  5  ====================\n",
      "loss:  0.14, cv_loss:  0.41\n",
      "Epoch:  6  ====================\n",
      "loss:  0.14, cv_loss:  0.39\n",
      "Epoch:  7  ====================\n",
      "loss:  0.13, cv_loss:  0.39\n",
      "Epoch:  8  ====================\n",
      "loss:  0.13, cv_loss:  0.40\n",
      "Epoch:  9  ====================\n",
      "loss:  0.12, cv_loss:  0.39\n",
      "Epoch: 10  ====================\n",
      "loss:  0.13, cv_loss:  0.41\n",
      "Epoch: 11  ====================\n",
      "loss:  0.13, cv_loss:  0.42\n",
      "Epoch: 12  ====================\n",
      "loss:  0.11, cv_loss:  0.39\n",
      "Epoch: 13  ====================\n",
      "loss:  0.13, cv_loss:  0.40\n",
      "Epoch: 14  ====================\n",
      "loss:  0.12, cv_loss:  0.41\n",
      "Epoch: 15  ====================\n",
      "loss:  0.12, cv_loss:  0.41\n",
      "Epoch: 16  ====================\n",
      "loss:  0.11, cv_loss:  0.42\n",
      "Epoch: 17  ====================\n",
      "loss:  0.16, cv_loss:  0.42\n",
      "Epoch: 18  ====================\n",
      "loss:  0.11, cv_loss:  0.41\n",
      "Epoch: 19  ====================\n",
      "loss:  0.12, cv_loss:  0.42\n"
     ]
    },
    {
     "data": {
      "image/png": "[encoded data removed]",
      "text/plain": [
       "<Figure size 432x288 with 1 Axes>"
      ]
     },
     "metadata": {
      "needs_background": "light"
     },
     "output_type": "display_data"
    }
   ],
   "source": [
    "epochs = 150\n",
    "losses, cv_losses = PokeAIMaster(CNN_model, epochs, train_loader, cv_loader)"
   ]
  },
  {
   "cell_type": "code",
   "execution_count": 10,
   "metadata": {},
   "outputs": [
    {
     "data": {
      "text/plain": [
       "array([[7.4886210e-04, 4.6848443e-01, 6.2160122e-01, 1.4619509e-04,\n",
       "        9.9999988e-01]], dtype=float32)"
      ]
     },
     "execution_count": 10,
     "metadata": {},
     "output_type": "execute_result"
    }
   ],
   "source": [
    "test = plt.imread(os.path.join(sample_root[0], \"0834.jpg\"))\n",
    "test = T.ToTensor()(test)\n",
    "o = CNN_model(torch.stack([test]).to(device))\n",
    "o.detach().cpu().numpy()"
   ]
  },
  {
   "cell_type": "code",
   "execution_count": 6,
   "metadata": {},
   "outputs": [],
   "source": [
    "torch.save(CNN_model.state_dict(), \"CNN_param.pth\")"
   ]
  },
  {
   "cell_type": "code",
   "execution_count": null,
   "metadata": {},
   "outputs": [],
   "source": []
  }
 ],
 "metadata": {
  "interpreter": {
   "hash": "4dbcc20bd42bae42a1c45c21a27db7c54bfeb7344c4316462725a59faf04af23"
  },
  "kernelspec": {
   "display_name": "Python 3 (ipykernel)",
   "language": "python",
   "name": "python3"
  },
  "language_info": {
   "codemirror_mode": {
    "name": "ipython",
    "version": 3
   },
   "file_extension": ".py",
   "mimetype": "text/x-python",
   "name": "python",
   "nbconvert_exporter": "python",
   "pygments_lexer": "ipython3",
   "version": "3.8.6"
  }
 },
 "nbformat": 4,
 "nbformat_minor": 4
}
