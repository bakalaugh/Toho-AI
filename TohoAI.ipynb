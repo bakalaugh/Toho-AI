{
 "cells": [
  {
   "cell_type": "code",
   "execution_count": null,
   "id": "2b65d73a-75a0-4d20-951a-0a0cf70cbbda",
   "metadata": {},
   "outputs": [],
   "source": [
    "import torch\n",
    "import model\n",
    "\n",
    "\n",
    "# 导入模型\n",
    "# 获取截图\n",
    "# 预测输出值\n",
    "# 根据输出值对应键盘操作，开始游戏"
   ]
  },
  {
   "cell_type": "code",
   "execution_count": null,
   "id": "e6f95963-a869-445b-8cfc-9c3f7eeaafe3",
   "metadata": {},
   "outputs": [],
   "source": [
    "CNN_model = model.toho_CNN()\n",
    "CNN_model = CNN_model.load_state_dict(torch.load(\"CNN_param.pth\"))\n",
    "CNN_model = CNN_model.to(device)"
   ]
  },
  {
   "cell_type": "code",
   "execution_count": null,
   "id": "e4f18264-270f-429f-ae33-0ab3f51fcfde",
   "metadata": {},
   "outputs": [],
   "source": []
  }
 ],
 "metadata": {
  "kernelspec": {
   "display_name": "Python 3 (ipykernel)",
   "language": "python",
   "name": "python3"
  },
  "language_info": {
   "codemirror_mode": {
    "name": "ipython",
    "version": 3
   },
   "file_extension": ".py",
   "mimetype": "text/x-python",
   "name": "python",
   "nbconvert_exporter": "python",
   "pygments_lexer": "ipython3",
   "version": "3.8.6"
  }
 },
 "nbformat": 4,
 "nbformat_minor": 5
}
